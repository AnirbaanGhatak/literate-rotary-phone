{
 "cells": [
  {
   "cell_type": "code",
   "execution_count": 1,
   "metadata": {},
   "outputs": [],
   "source": [
    "import pandas as pd\n",
    "import numpy as np\n",
    "from nltk import word_tokenize"
   ]
  },
  {
   "cell_type": "code",
   "execution_count": 15,
   "metadata": {},
   "outputs": [],
   "source": [
    "# Input data\n",
    "text_data = [\"Martha waited for the train\", \"The train was late\", \"Tim and Jim took the bus\"]\n",
    "\n",
    "# Tokenization\n",
    "tokens = [word_tokenize(sentence) for sentence in text_data]\n",
    "\n",
    "# Create Vocabulary\n",
    "vocab = set([word for sentence in tokens for word in sentence])"
   ]
  },
  {
   "cell_type": "code",
   "execution_count": 17,
   "metadata": {},
   "outputs": [],
   "source": [
    "# Create Bag-of-Words Model\n",
    "bow_model = []\n",
    "for sentence_tokens in tokens:\n",
    "    bow_vector = [sentence_tokens.count(word) for word in vocab]\n",
    "    bow_model.append(bow_vector)\n"
   ]
  },
  {
   "cell_type": "code",
   "execution_count": 4,
   "metadata": {},
   "outputs": [],
   "source": [
    "# Convert set to list and create DataFrame\n",
    "vocab_list = list(vocab)\n",
    "df = pd.DataFrame(np.array(bow_model), columns=vocab_list)\n",
    "\n"
   ]
  },
  {
   "cell_type": "code",
   "execution_count": 5,
   "metadata": {},
   "outputs": [
    {
     "data": {
      "text/html": [
       "<div>\n",
       "<style scoped>\n",
       "    .dataframe tbody tr th:only-of-type {\n",
       "        vertical-align: middle;\n",
       "    }\n",
       "\n",
       "    .dataframe tbody tr th {\n",
       "        vertical-align: top;\n",
       "    }\n",
       "\n",
       "    .dataframe thead th {\n",
       "        text-align: right;\n",
       "    }\n",
       "</style>\n",
       "<table border=\"1\" class=\"dataframe\">\n",
       "  <thead>\n",
       "    <tr style=\"text-align: right;\">\n",
       "      <th></th>\n",
       "      <th>took</th>\n",
       "      <th>train</th>\n",
       "      <th>bus</th>\n",
       "      <th>Mary</th>\n",
       "      <th>for</th>\n",
       "      <th>late</th>\n",
       "      <th>was</th>\n",
       "      <th>The</th>\n",
       "      <th>Ma</th>\n",
       "      <th>the</th>\n",
       "      <th>Samantha</th>\n",
       "      <th>and</th>\n",
       "      <th>waited</th>\n",
       "    </tr>\n",
       "  </thead>\n",
       "  <tbody>\n",
       "    <tr>\n",
       "      <th>0</th>\n",
       "      <td>0</td>\n",
       "      <td>1</td>\n",
       "      <td>0</td>\n",
       "      <td>0</td>\n",
       "      <td>1</td>\n",
       "      <td>0</td>\n",
       "      <td>0</td>\n",
       "      <td>0</td>\n",
       "      <td>1</td>\n",
       "      <td>1</td>\n",
       "      <td>0</td>\n",
       "      <td>0</td>\n",
       "      <td>1</td>\n",
       "    </tr>\n",
       "    <tr>\n",
       "      <th>1</th>\n",
       "      <td>0</td>\n",
       "      <td>1</td>\n",
       "      <td>0</td>\n",
       "      <td>0</td>\n",
       "      <td>0</td>\n",
       "      <td>1</td>\n",
       "      <td>1</td>\n",
       "      <td>1</td>\n",
       "      <td>0</td>\n",
       "      <td>0</td>\n",
       "      <td>0</td>\n",
       "      <td>0</td>\n",
       "      <td>0</td>\n",
       "    </tr>\n",
       "    <tr>\n",
       "      <th>2</th>\n",
       "      <td>1</td>\n",
       "      <td>0</td>\n",
       "      <td>1</td>\n",
       "      <td>1</td>\n",
       "      <td>0</td>\n",
       "      <td>0</td>\n",
       "      <td>0</td>\n",
       "      <td>0</td>\n",
       "      <td>0</td>\n",
       "      <td>1</td>\n",
       "      <td>1</td>\n",
       "      <td>1</td>\n",
       "      <td>0</td>\n",
       "    </tr>\n",
       "  </tbody>\n",
       "</table>\n",
       "</div>"
      ],
      "text/plain": [
       "   took  train  bus  Mary  for  late  was  The  Ma  the  Samantha  and  waited\n",
       "0     0      1    0     0    1     0    0    0   1    1         0    0       1\n",
       "1     0      1    0     0    0     1    1    1   0    0         0    0       0\n",
       "2     1      0    1     1    0     0    0    0   0    1         1    1       0"
      ]
     },
     "execution_count": 5,
     "metadata": {},
     "output_type": "execute_result"
    }
   ],
   "source": [
    "df"
   ]
  },
  {
   "cell_type": "code",
   "execution_count": 6,
   "metadata": {},
   "outputs": [],
   "source": [
    "import pandas as pd\n",
    "from sklearn.feature_extraction.text import CountVectorizer\n",
    "from sklearn.metrics.pairwise import cosine_similarity\n"
   ]
  },
  {
   "cell_type": "code",
   "execution_count": 7,
   "metadata": {},
   "outputs": [],
   "source": [
    "# Input data\n",
    "text_data = [\"Dexter waited for the bus in the rain\", \"The bus was late\", \"Jane and Nicole took the bus\"]\n",
    "\n",
    "# Create CountVectorizer\n",
    "vectorizer = CountVectorizer()\n",
    "X = vectorizer.fit_transform(text_data)\n",
    "\n",
    "# Convert to DataFrame and print in tabular format\n",
    "df = pd.DataFrame(X.toarray(), columns=vectorizer.get_feature_names_out())"
   ]
  },
  {
   "cell_type": "code",
   "execution_count": 8,
   "metadata": {},
   "outputs": [
    {
     "data": {
      "text/html": [
       "<div>\n",
       "<style scoped>\n",
       "    .dataframe tbody tr th:only-of-type {\n",
       "        vertical-align: middle;\n",
       "    }\n",
       "\n",
       "    .dataframe tbody tr th {\n",
       "        vertical-align: top;\n",
       "    }\n",
       "\n",
       "    .dataframe thead th {\n",
       "        text-align: right;\n",
       "    }\n",
       "</style>\n",
       "<table border=\"1\" class=\"dataframe\">\n",
       "  <thead>\n",
       "    <tr style=\"text-align: right;\">\n",
       "      <th></th>\n",
       "      <th>and</th>\n",
       "      <th>bus</th>\n",
       "      <th>dexter</th>\n",
       "      <th>for</th>\n",
       "      <th>in</th>\n",
       "      <th>jane</th>\n",
       "      <th>late</th>\n",
       "      <th>nicole</th>\n",
       "      <th>rain</th>\n",
       "      <th>the</th>\n",
       "      <th>took</th>\n",
       "      <th>waited</th>\n",
       "      <th>was</th>\n",
       "    </tr>\n",
       "  </thead>\n",
       "  <tbody>\n",
       "    <tr>\n",
       "      <th>0</th>\n",
       "      <td>0</td>\n",
       "      <td>1</td>\n",
       "      <td>1</td>\n",
       "      <td>1</td>\n",
       "      <td>1</td>\n",
       "      <td>0</td>\n",
       "      <td>0</td>\n",
       "      <td>0</td>\n",
       "      <td>1</td>\n",
       "      <td>2</td>\n",
       "      <td>0</td>\n",
       "      <td>1</td>\n",
       "      <td>0</td>\n",
       "    </tr>\n",
       "    <tr>\n",
       "      <th>1</th>\n",
       "      <td>0</td>\n",
       "      <td>1</td>\n",
       "      <td>0</td>\n",
       "      <td>0</td>\n",
       "      <td>0</td>\n",
       "      <td>0</td>\n",
       "      <td>1</td>\n",
       "      <td>0</td>\n",
       "      <td>0</td>\n",
       "      <td>1</td>\n",
       "      <td>0</td>\n",
       "      <td>0</td>\n",
       "      <td>1</td>\n",
       "    </tr>\n",
       "    <tr>\n",
       "      <th>2</th>\n",
       "      <td>1</td>\n",
       "      <td>1</td>\n",
       "      <td>0</td>\n",
       "      <td>0</td>\n",
       "      <td>0</td>\n",
       "      <td>1</td>\n",
       "      <td>0</td>\n",
       "      <td>1</td>\n",
       "      <td>0</td>\n",
       "      <td>1</td>\n",
       "      <td>1</td>\n",
       "      <td>0</td>\n",
       "      <td>0</td>\n",
       "    </tr>\n",
       "  </tbody>\n",
       "</table>\n",
       "</div>"
      ],
      "text/plain": [
       "   and  bus  dexter  for  in  jane  late  nicole  rain  the  took  waited  was\n",
       "0    0    1       1    1   1     0     0       0     1    2     0       1    0\n",
       "1    0    1       0    0   0     0     1       0     0    1     0       0    1\n",
       "2    1    1       0    0   0     1     0       1     0    1     1       0    0"
      ]
     },
     "execution_count": 8,
     "metadata": {},
     "output_type": "execute_result"
    }
   ],
   "source": [
    "df"
   ]
  },
  {
   "cell_type": "code",
   "execution_count": 9,
   "metadata": {},
   "outputs": [],
   "source": [
    "cosine_sim = cosine_similarity(X)"
   ]
  },
  {
   "cell_type": "code",
   "execution_count": 10,
   "metadata": {},
   "outputs": [
    {
     "data": {
      "text/html": [
       "<div>\n",
       "<style scoped>\n",
       "    .dataframe tbody tr th:only-of-type {\n",
       "        vertical-align: middle;\n",
       "    }\n",
       "\n",
       "    .dataframe tbody tr th {\n",
       "        vertical-align: top;\n",
       "    }\n",
       "\n",
       "    .dataframe thead th {\n",
       "        text-align: right;\n",
       "    }\n",
       "</style>\n",
       "<table border=\"1\" class=\"dataframe\">\n",
       "  <thead>\n",
       "    <tr style=\"text-align: right;\">\n",
       "      <th></th>\n",
       "      <th>Dexter waited for the bus in the rain</th>\n",
       "      <th>The bus was late</th>\n",
       "      <th>Jane and Nicole took the bus</th>\n",
       "    </tr>\n",
       "  </thead>\n",
       "  <tbody>\n",
       "    <tr>\n",
       "      <th>Dexter waited for the bus in the rain</th>\n",
       "      <td>1.000000</td>\n",
       "      <td>0.474342</td>\n",
       "      <td>0.387298</td>\n",
       "    </tr>\n",
       "    <tr>\n",
       "      <th>The bus was late</th>\n",
       "      <td>0.474342</td>\n",
       "      <td>1.000000</td>\n",
       "      <td>0.408248</td>\n",
       "    </tr>\n",
       "    <tr>\n",
       "      <th>Jane and Nicole took the bus</th>\n",
       "      <td>0.387298</td>\n",
       "      <td>0.408248</td>\n",
       "      <td>1.000000</td>\n",
       "    </tr>\n",
       "  </tbody>\n",
       "</table>\n",
       "</div>"
      ],
      "text/plain": [
       "                                       Dexter waited for the bus in the rain  \\\n",
       "Dexter waited for the bus in the rain                               1.000000   \n",
       "The bus was late                                                    0.474342   \n",
       "Jane and Nicole took the bus                                        0.387298   \n",
       "\n",
       "                                       The bus was late  \\\n",
       "Dexter waited for the bus in the rain          0.474342   \n",
       "The bus was late                               1.000000   \n",
       "Jane and Nicole took the bus                   0.408248   \n",
       "\n",
       "                                       Jane and Nicole took the bus  \n",
       "Dexter waited for the bus in the rain                      0.387298  \n",
       "The bus was late                                           0.408248  \n",
       "Jane and Nicole took the bus                               1.000000  "
      ]
     },
     "execution_count": 10,
     "metadata": {},
     "output_type": "execute_result"
    }
   ],
   "source": [
    "df = pd.DataFrame(cosine_sim, columns=text_data, index=text_data)\n",
    "df"
   ]
  },
  {
   "cell_type": "code",
   "execution_count": 11,
   "metadata": {},
   "outputs": [],
   "source": [
    "# Convert to DataFrame and print in tabular format\n",
    "from sklearn.feature_extraction.text import TfidfVectorizer\n",
    "import pandas as pd"
   ]
  },
  {
   "cell_type": "code",
   "execution_count": 12,
   "metadata": {},
   "outputs": [],
   "source": [
    "# Input data\n",
    "text_data = [\"Joe waited for the train\", \"The train was late\", \"Mary and Samantha took the bus\"]\n"
   ]
  },
  {
   "cell_type": "code",
   "execution_count": 13,
   "metadata": {},
   "outputs": [],
   "source": [
    "# Create TfidfVectorizer\n",
    "vectorizer = TfidfVectorizer()\n",
    "X = vectorizer.fit_transform(text_data)\n",
    "\n",
    "# Convert to DataFrame and print in tabular format\n",
    "df = pd.DataFrame(X.toarray(), columns=vectorizer.get_feature_names_out(), index=text_data)"
   ]
  },
  {
   "cell_type": "code",
   "execution_count": 14,
   "metadata": {},
   "outputs": [
    {
     "data": {
      "text/html": [
       "<div>\n",
       "<style scoped>\n",
       "    .dataframe tbody tr th:only-of-type {\n",
       "        vertical-align: middle;\n",
       "    }\n",
       "\n",
       "    .dataframe tbody tr th {\n",
       "        vertical-align: top;\n",
       "    }\n",
       "\n",
       "    .dataframe thead th {\n",
       "        text-align: right;\n",
       "    }\n",
       "</style>\n",
       "<table border=\"1\" class=\"dataframe\">\n",
       "  <thead>\n",
       "    <tr style=\"text-align: right;\">\n",
       "      <th></th>\n",
       "      <th>and</th>\n",
       "      <th>bus</th>\n",
       "      <th>for</th>\n",
       "      <th>joe</th>\n",
       "      <th>late</th>\n",
       "      <th>mary</th>\n",
       "      <th>samantha</th>\n",
       "      <th>the</th>\n",
       "      <th>took</th>\n",
       "      <th>train</th>\n",
       "      <th>waited</th>\n",
       "      <th>was</th>\n",
       "    </tr>\n",
       "  </thead>\n",
       "  <tbody>\n",
       "    <tr>\n",
       "      <th>Joe waited for the train</th>\n",
       "      <td>0.000000</td>\n",
       "      <td>0.000000</td>\n",
       "      <td>0.504611</td>\n",
       "      <td>0.504611</td>\n",
       "      <td>0.000000</td>\n",
       "      <td>0.000000</td>\n",
       "      <td>0.000000</td>\n",
       "      <td>0.298032</td>\n",
       "      <td>0.000000</td>\n",
       "      <td>0.383770</td>\n",
       "      <td>0.504611</td>\n",
       "      <td>0.000000</td>\n",
       "    </tr>\n",
       "    <tr>\n",
       "      <th>The train was late</th>\n",
       "      <td>0.000000</td>\n",
       "      <td>0.000000</td>\n",
       "      <td>0.000000</td>\n",
       "      <td>0.000000</td>\n",
       "      <td>0.584483</td>\n",
       "      <td>0.000000</td>\n",
       "      <td>0.000000</td>\n",
       "      <td>0.345205</td>\n",
       "      <td>0.000000</td>\n",
       "      <td>0.444514</td>\n",
       "      <td>0.000000</td>\n",
       "      <td>0.584483</td>\n",
       "    </tr>\n",
       "    <tr>\n",
       "      <th>Mary and Samantha took the bus</th>\n",
       "      <td>0.432385</td>\n",
       "      <td>0.432385</td>\n",
       "      <td>0.000000</td>\n",
       "      <td>0.000000</td>\n",
       "      <td>0.000000</td>\n",
       "      <td>0.432385</td>\n",
       "      <td>0.432385</td>\n",
       "      <td>0.255374</td>\n",
       "      <td>0.432385</td>\n",
       "      <td>0.000000</td>\n",
       "      <td>0.000000</td>\n",
       "      <td>0.000000</td>\n",
       "    </tr>\n",
       "  </tbody>\n",
       "</table>\n",
       "</div>"
      ],
      "text/plain": [
       "                                     and       bus       for       joe  \\\n",
       "Joe waited for the train        0.000000  0.000000  0.504611  0.504611   \n",
       "The train was late              0.000000  0.000000  0.000000  0.000000   \n",
       "Mary and Samantha took the bus  0.432385  0.432385  0.000000  0.000000   \n",
       "\n",
       "                                    late      mary  samantha       the  \\\n",
       "Joe waited for the train        0.000000  0.000000  0.000000  0.298032   \n",
       "The train was late              0.584483  0.000000  0.000000  0.345205   \n",
       "Mary and Samantha took the bus  0.000000  0.432385  0.432385  0.255374   \n",
       "\n",
       "                                    took     train    waited       was  \n",
       "Joe waited for the train        0.000000  0.383770  0.504611  0.000000  \n",
       "The train was late              0.000000  0.444514  0.000000  0.584483  \n",
       "Mary and Samantha took the bus  0.432385  0.000000  0.000000  0.000000  "
      ]
     },
     "execution_count": 14,
     "metadata": {},
     "output_type": "execute_result"
    }
   ],
   "source": [
    "df"
   ]
  },
  {
   "cell_type": "code",
   "execution_count": 21,
   "metadata": {},
   "outputs": [
    {
     "name": "stderr",
     "output_type": "stream",
     "text": [
      "/home/codespace/.local/lib/python3.10/site-packages/sklearn/preprocessing/_encoders.py:975: FutureWarning: `sparse` was renamed to `sparse_output` in version 1.2 and will be removed in 1.4. `sparse_output` is ignored unless you leave `sparse` to its default value.\n",
      "  warnings.warn(\n"
     ]
    }
   ],
   "source": [
    "import numpy as np\n",
    "from sklearn.preprocessing import OneHotEncoder\n",
    "\n",
    "string = \"Joe waited for the train The train was late Mary and Samantha took the bus\"\n",
    "\n",
    "characters = list(set(string))  # Get unique characters\n",
    "\n",
    "char_to_int = dict((c, i) for i, c in enumerate(characters))\n",
    "\n",
    "integer_encoded = [char_to_int[char] for char in string]\n",
    "\n",
    "encoder = OneHotEncoder(sparse=False)  # Set sparse=False for dense output\n",
    "encoder.fit(np.array(integer_encoded).reshape(-1, 1))\n",
    "\n",
    "onehot_encoded = encoder.transform(np.array(integer_encoded).reshape(-1, 1))"
   ]
  },
  {
   "cell_type": "code",
   "execution_count": 22,
   "metadata": {},
   "outputs": [
    {
     "name": "stdout",
     "output_type": "stream",
     "text": [
      "[[0. 1. 0. ... 0. 0. 0.]\n",
      " [0. 0. 0. ... 0. 0. 0.]\n",
      " [0. 0. 0. ... 0. 0. 0.]\n",
      " ...\n",
      " [0. 0. 0. ... 1. 0. 0.]\n",
      " [0. 0. 0. ... 0. 0. 0.]\n",
      " [0. 0. 0. ... 0. 0. 0.]]\n"
     ]
    }
   ],
   "source": [
    "print(onehot_encoded)"
   ]
  }
 ],
 "metadata": {
  "kernelspec": {
   "display_name": "Python 3",
   "language": "python",
   "name": "python3"
  },
  "language_info": {
   "codemirror_mode": {
    "name": "ipython",
    "version": 3
   },
   "file_extension": ".py",
   "mimetype": "text/x-python",
   "name": "python",
   "nbconvert_exporter": "python",
   "pygments_lexer": "ipython3",
   "version": "3.10.13"
  }
 },
 "nbformat": 4,
 "nbformat_minor": 2
}
