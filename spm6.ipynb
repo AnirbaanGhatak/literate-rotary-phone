{
 "cells": [
  {
   "cell_type": "code",
   "execution_count": 20,
   "metadata": {},
   "outputs": [],
   "source": [
    "import pandas as pd\n",
    "import re\n",
    "\n",
    "def halstead_metrics_cpp(code_string: str) -> pd.DataFrame:\n",
    "\n",
    "    # Remove comments and empty lines, preserving preprocessor directives\n",
    "    code_string = '\\n'.join(\n",
    "        line.strip() for line in code_string.splitlines()\n",
    "        if line.strip() and not line.startswith('//') and not line.startswith('#') and not line.startswith('/*')\n",
    "    )\n",
    "    code_string = re.sub(r\"int\\s+main\\(\\)\\s*\\{\", \"\", code_string, flags=re.IGNORECASE)\n",
    "\n",
    "    # Operator and operand counting functions for C++\n",
    "    def count_operators_cpp(code):\n",
    "        operators = r\"\\+|\\-|\\*|\\/|\\=|!=|<|>|<=|>=|==|&&|\\|\\||!|\\?|:|\\[|\\]|\\{|\\}|\\(|\\)|;,|for|while|if|else|return|cin|cout|int|float|double|char|void|break|continue\"\n",
    "        return len(re.findall(operators, code)), re.findall(operators, code)\n",
    "\n",
    "    def count_operands_cpp(code):\n",
    "        operands = re.findall(r\"[a-zA-Z0-9_]+|\\\".*?\\\"|\\'.*?\\'\", code)  # Include string literals\n",
    "        keywords = r\"for|while|if|else|return|cin|cout|int|float|double|char|void|break|continue|\"\n",
    "        operands = [operand for operand in operands if not re.match(keywords, operand)]\n",
    "        return len(set(operands)), operands\n",
    "\n",
    "    # Calculate metrics (same as before)\n",
    "    ooperators, operator = count_operators_cpp(code_string)\n",
    "    ooperands, operand = count_operands_cpp(code_string)\n",
    "    \n",
    "    # Create DataFrame (same as before)\n",
    "    metrics = pd.DataFrame({\n",
    "        \"Metric\": [\"Operators\", \"Operators Occurences\", \"Operands\", \"Operands Occurences\"],\n",
    "        \"Value\": [operator, ooperators, operand, ooperands]\n",
    "    })\n",
    "\n",
    "    return metrics"
   ]
  },
  {
   "cell_type": "code",
   "execution_count": 21,
   "metadata": {},
   "outputs": [],
   "source": [
    "x = \"\"\"void insertionSort(int arr[], int n) \n",
    "{\n",
    "    for (int i = 1; i < n; i++)\n",
    " { \n",
    "int key = arr[i]; \n",
    "int j = i - 1; \n",
    "while (j >= 0 && arr[j] > key) \n",
    "{\n",
    "            arr[j + 1] = arr[j];\n",
    "            j--;\n",
    "        }\n",
    "        arr[j + 1] = key;\n",
    "    }\n",
    "}\n",
    "void printArray(int arr[], int n) {\n",
    "    for (int i = 0; i < n; i++) {\n",
    "       cout << arr[i] << \" \";\n",
    "    }\n",
    "    cout << std::endl;\n",
    "}\n",
    "int main()\n",
    " {\n",
    "    int arr[] = {64, 25, 12, 22, 11};\n",
    "    int n = sizeof(arr) / sizeof(arr[0]);\n",
    " cout << \"Original array: \";\n",
    "    printArray(arr, n);\n",
    "    insertionSort(arr, n);\n",
    "    cout << \"Sorted array: \";\n",
    "    printArray(arr, n);\n",
    "    return 0;\n",
    "}        \n",
    "\"\"\"\n",
    "z = halstead_metrics_cpp(x)"
   ]
  }
 ],
 "metadata": {
  "kernelspec": {
   "display_name": "Python 3",
   "language": "python",
   "name": "python3"
  },
  "language_info": {
   "codemirror_mode": {
    "name": "ipython",
    "version": 3
   },
   "file_extension": ".py",
   "mimetype": "text/x-python",
   "name": "python",
   "nbconvert_exporter": "python",
   "pygments_lexer": "ipython3",
   "version": "3.10.13"
  }
 },
 "nbformat": 4,
 "nbformat_minor": 2
}
