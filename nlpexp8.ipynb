{
 "cells": [
  {
   "cell_type": "code",
   "execution_count": 3,
   "metadata": {},
   "outputs": [
    {
     "name": "stderr",
     "output_type": "stream",
     "text": [
      "[nltk_data] Downloading package punkt to /home/codespace/nltk_data...\n",
      "[nltk_data]   Package punkt is already up-to-date!\n",
      "[nltk_data] Downloading package stopwords to\n",
      "[nltk_data]     /home/codespace/nltk_data...\n",
      "[nltk_data]   Package stopwords is already up-to-date!\n",
      "[nltk_data] Downloading package wordnet to\n",
      "[nltk_data]     /home/codespace/nltk_data...\n",
      "[nltk_data]   Package wordnet is already up-to-date!\n",
      "[nltk_data] Downloading package averaged_perceptron_tagger to\n",
      "[nltk_data]     /home/codespace/nltk_data...\n",
      "[nltk_data]   Unzipping taggers/averaged_perceptron_tagger.zip.\n",
      "[nltk_data] Downloading package maxent_ne_chunker to\n",
      "[nltk_data]     /home/codespace/nltk_data...\n",
      "[nltk_data]   Unzipping chunkers/maxent_ne_chunker.zip.\n",
      "[nltk_data] Downloading package words to /home/codespace/nltk_data...\n",
      "[nltk_data]   Unzipping corpora/words.zip.\n"
     ]
    },
    {
     "name": "stdout",
     "output_type": "stream",
     "text": [
      "\n",
      "Part-of-speech tagging result:\n",
      "<FreqDist with 3 samples and 6 outcomes>\n",
      "\n",
      "Tokens after preprocessing: ['the', 'quick', 'brown', 'fox', 'jump', 'dog']\n",
      "\n",
      "Named Entity Recognition result:\n",
      "(S The/DT quick/JJ brown/NN fox/NN jumps/VBZ over/IN the/DT dog/NN)\n"
     ]
    }
   ],
   "source": [
    "import nltk\n",
    "from nltk.tokenize import word_tokenize, sent_tokenize\n",
    "from nltk import pos_tag, ne_chunk\n",
    "from nltk.corpus import stopwords\n",
    "from nltk.stem import WordNetLemmatizer\n",
    "import string\n",
    "\n",
    "def preprocess_text(text):\n",
    "    # Tokenize text into sentences\n",
    "    sentences = sent_tokenize(text)\n",
    "    \n",
    "    # Tokenize each sentence into words, remove punctuation and stopwords, and lemmatize\n",
    "    tokens = []\n",
    "    lemmatizer = WordNetLemmatizer()\n",
    "    stop_words = set(stopwords.words('english'))\n",
    "    for sentence in sentences:\n",
    "        words = word_tokenize(sentence)\n",
    "        for word in words:\n",
    "            if word not in stop_words and word not in string.punctuation:\n",
    "                tokens.append(lemmatizer.lemmatize(word.lower()))\n",
    "    return tokens\n",
    "\n",
    "def pos_tagging(tokens):\n",
    "    # Perform part-of-speech tagging\n",
    "    tagged_tokens = pos_tag(tokens)\n",
    "    return tagged_tokens\n",
    "\n",
    "def named_entity_recognition(text):\n",
    "    # Perform named entity recognition\n",
    "    ne_tree = ne_chunk(pos_tag(word_tokenize(text)))\n",
    "    return ne_tree\n",
    "\n",
    "def analyze_pos_tagging(tagged_tokens):\n",
    "    # Analyze the result of part-of-speech tagging\n",
    "    pos_counts = nltk.FreqDist(tag for (word, tag) in tagged_tokens)\n",
    "    print(\"\\nPart-of-speech tagging result:\")\n",
    "    print(pos_counts)\n",
    "\n",
    "def main():\n",
    "    # Read input text\n",
    "    text = input(\"Enter the text: \")\n",
    "\n",
    "    # Preprocess text\n",
    "    tokens = preprocess_text(text)\n",
    "\n",
    "    # Part-of-speech tagging\n",
    "    tagged_tokens = pos_tagging(tokens)\n",
    "\n",
    "    # Analyze part-of-speech tagging result\n",
    "    analyze_pos_tagging(tagged_tokens)\n",
    "\n",
    "    # Named Entity Recognition\n",
    "    ne_tree = named_entity_recognition(text)\n",
    "\n",
    "    # Print results\n",
    "    print(\"\\nTokens after preprocessing:\", tokens)\n",
    "    print(\"\\nNamed Entity Recognition result:\")\n",
    "    print(ne_tree)\n",
    "\n",
    "if __name__ == \"__main__\":\n",
    "    nltk.download('punkt')\n",
    "    nltk.download('stopwords')\n",
    "    nltk.download('wordnet')\n",
    "    nltk.download('averaged_perceptron_tagger')\n",
    "    nltk.download('maxent_ne_chunker')\n",
    "    nltk.download('words')\n",
    "    main()"
   ]
  }
 ],
 "metadata": {
  "kernelspec": {
   "display_name": "Python 3",
   "language": "python",
   "name": "python3"
  },
  "language_info": {
   "codemirror_mode": {
    "name": "ipython",
    "version": 3
   },
   "file_extension": ".py",
   "mimetype": "text/x-python",
   "name": "python",
   "nbconvert_exporter": "python",
   "pygments_lexer": "ipython3",
   "version": "3.10.13"
  }
 },
 "nbformat": 4,
 "nbformat_minor": 2
}
